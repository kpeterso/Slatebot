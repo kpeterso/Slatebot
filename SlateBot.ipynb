{
 "cells": [
  {
   "cell_type": "code",
   "execution_count": 1,
   "metadata": {
    "collapsed": false
   },
   "outputs": [
    {
     "name": "stderr",
     "output_type": "stream",
     "text": [
      "Using Theano backend.\n",
      "/usr/local/lib/python2.7/dist-packages/theano/tensor/signal/downsample.py:5: UserWarning: downsample module has been moved to the pool module.\n",
      "  warnings.warn(\"downsample module has been moved to the pool module.\")\n"
     ]
    }
   ],
   "source": [
    "from __future__ import print_function\n",
    "from keras.models import Sequential\n",
    "from keras.layers.core import Dense, Activation, Dropout\n",
    "from keras.layers.recurrent import LSTM\n",
    "from keras.datasets.data_utils import get_file\n",
    "import numpy as np\n",
    "import random\n",
    "import sys"
   ]
  },
  {
   "cell_type": "markdown",
   "metadata": {},
   "source": [
    "Import text and get characters"
   ]
  },
  {
   "cell_type": "code",
   "execution_count": 2,
   "metadata": {
    "collapsed": false,
    "scrolled": true
   },
   "outputs": [
    {
     "name": "stdout",
     "output_type": "stream",
     "text": [
      "corpus length: 6247475\n",
      "total chars: 67\n",
      "\n",
      " !   # \" % $ ' & ) ( + * - , / . 1 0 3 2 5 4 7 6 9 8 ; : = < ? > @ [ ] _ ^ a c b e d g f i h k j m l o n q p s r u t w v y x z | ~ \n"
     ]
    }
   ],
   "source": [
    "text = open('SSE.txt').read().lower()\n",
    "print('corpus length:', len(text))\n",
    "\n",
    "chars = set(text)\n",
    "print('total chars:', len(chars))\n",
    "char_indices = dict((c, i) for i, c in enumerate(chars))\n",
    "indices_char = dict((i, c) for i, c in enumerate(chars))\n",
    "log=\"\"\n",
    "for i, c in enumerate(chars):\n",
    "    log+=c+\" \"\n",
    "print (log)"
   ]
  },
  {
   "cell_type": "markdown",
   "metadata": {},
   "source": [
    "cut text into length 20 sentences"
   ]
  },
  {
   "cell_type": "code",
   "execution_count": 3,
   "metadata": {
    "collapsed": false
   },
   "outputs": [],
   "source": [
    "# cut the text in semi-redundant sequences of maxlen characters\n",
    "maxlen = 20\n",
    "num_sentences=1000000\n",
    "\n",
    "\n",
    "\n",
    "\n",
    "#    for i in range(0,num_sentences):\n",
    "#        r=random.randint(0,len(chars)-20)\n",
    "#        sentences.append(text[r: r + maxlen])\n",
    "#        next_chars.append(text[r + maxlen])\n",
    "#    print('nb sequences:', len(sentences))\n",
    "#    X = np.zeros((len(sentences), maxlen, len(chars)), dtype=np.bool)\n",
    "#    y = np.zeros((len(sentences), len(chars)), dtype=np.bool)\n",
    "#    for i, sentence in enumerate(sentences):\n",
    "#        for t, char in enumerate(sentence):\n",
    "#            X[i, t, char_indices[char]] = 1\n",
    "#        y[i, char_indices[next_chars[i]]] = 1\n",
    "#    return X,y"
   ]
  },
  {
   "cell_type": "markdown",
   "metadata": {},
   "source": [
    "Convert each char to 1-hot encoded vector\n",
    "X: input 3-D Tensor, gives context for output\n",
    "y: output 2-D Tensor, y[i,:] contains char that comes right after X[i,:,:]"
   ]
  },
  {
   "cell_type": "code",
   "execution_count": 4,
   "metadata": {
    "collapsed": false
   },
   "outputs": [],
   "source": [
    "#print('Vectorization...')\n",
    "#X = np.zeros((len(sentences), maxlen, len(chars)), dtype=np.bool)\n",
    "#y = np.zeros((len(sentences), len(chars)), dtype=np.bool)\n",
    "#for i, sentence in enumerate(sentences):\n",
    "#    for t, char in enumerate(sentence):\n",
    "#        X[i, t, char_indices[char]] = 1\n",
    "#    y[i, char_indices[next_chars[i]]] = 1"
   ]
  },
  {
   "cell_type": "markdown",
   "metadata": {},
   "source": [
    "build the model: 2 stacked LSTMs\n",
    "incorporate dropout between each model for training regularization"
   ]
  },
  {
   "cell_type": "code",
   "execution_count": 5,
   "metadata": {
    "collapsed": false
   },
   "outputs": [
    {
     "name": "stdout",
     "output_type": "stream",
     "text": [
      "Build model...\n"
     ]
    }
   ],
   "source": [
    "print('Build model...')\n",
    "model = Sequential()\n",
    "model.add(LSTM(512, return_sequences=True, input_shape=(maxlen, len(chars))))\n",
    "#model.add(LSTM(512, input_shape=(maxlen, len(chars))))\n",
    "model.add(Dropout(0.2))\n",
    "model.add(LSTM(512, return_sequences=False))\n",
    "model.add(Dropout(0.2))\n",
    "model.add(Dense(len(chars)))\n",
    "model.add(Activation('softmax'))\n",
    "\n",
    "model.compile(loss='categorical_crossentropy', optimizer='rmsprop')"
   ]
  },
  {
   "cell_type": "code",
   "execution_count": 6,
   "metadata": {
    "collapsed": true
   },
   "outputs": [],
   "source": [
    "def sample(a, temperature=1.0):\n",
    "    # helper function to sample an index from a probability array\n",
    "    a = np.log(a) / temperature\n",
    "    a = np.exp(a) / np.sum(np.exp(a))\n",
    "    return np.argmax(np.random.multinomial(1, a, 1))"
   ]
  },
  {
   "cell_type": "markdown",
   "metadata": {},
   "source": [
    "train the model, output generated text after each iteration\n"
   ]
  },
  {
   "cell_type": "code",
   "execution_count": null,
   "metadata": {
    "collapsed": false
   },
   "outputs": [
    {
     "name": "stdout",
     "output_type": "stream",
     "text": [
      "['of exceptions (for e', \" worrying that i'm a\", 'hings like your son ', 'his is terribly rele', '-iq players had five', 'e is most classicall', 'l discrimination and', 'egime that rpeached ', 'ment against seeking', ' its predictive vali'] ['x', 'c', 'n', 'v', ' ', 'y', ' ', 't', ' ', 'd']\n",
      "nb sequences: 1000000\n",
      "\n",
      "--------------------------------------------------\n",
      "Iteration 1\n",
      "Epoch 1/1\n",
      "   2560/1000000 [..............................] - ETA: 32395s - loss: 3.2842"
     ]
    }
   ],
   "source": [
    "for iteration in range(1, 20):\n",
    "    sentences = []\n",
    "    next_chars = []\n",
    "    for i in range(0,num_sentences):\n",
    "        r=random.randint(0,len(text)-20)\n",
    "        sentences.append(text[r: r + maxlen])\n",
    "        next_chars.append(text[r + maxlen])\n",
    "    print(sentences[0:10],next_chars[0:10])\n",
    "    print('nb sequences:', len(sentences))\n",
    "    X = np.zeros((len(sentences), maxlen, len(chars)), dtype=np.bool)\n",
    "    y = np.zeros((len(sentences), len(chars)), dtype=np.bool)\n",
    "    for i, sentence in enumerate(sentences):\n",
    "        for t, char in enumerate(sentence):\n",
    "            X[i, t, char_indices[char]] = 1\n",
    "        y[i, char_indices[next_chars[i]]] = 1\n",
    "\n",
    "    print()\n",
    "    print('-' * 50)\n",
    "    print('Iteration', iteration)\n",
    "    model.fit(X, y, batch_size=64, nb_epoch=1)\n",
    "    model.save_weights('tb-weights', overwrite=True)\n",
    "    start_index = random.randint(0, len(text) - maxlen - 1)\n",
    "\n",
    "    for diversity in [0.2, 0.5, 1.0, 1.2]:\n",
    "        print()\n",
    "        print('----- diversity:', diversity)\n",
    "\n",
    "        generated = ''\n",
    "        sentence = text[start_index: start_index + maxlen]\n",
    "        generated += sentence\n",
    "        print('----- Generating with seed: \"' + sentence + '\"')\n",
    "        sys.stdout.write(generated)\n",
    "\n",
    "        for i in range(400):\n",
    "            x = np.zeros((1, maxlen, len(chars)))\n",
    "            for t, char in enumerate(sentence):\n",
    "                x[0, t, char_indices[char]] = 1.\n",
    "\n",
    "            preds = model.predict(x, verbose=0)[0]\n",
    "            next_index = sample(preds, diversity)\n",
    "            next_char = indices_char[next_index]\n",
    "\n",
    "            generated += next_char\n",
    "            sentence = sentence[1:] + next_char\n",
    "\n",
    "            sys.stdout.write(next_char)\n",
    "            sys.stdout.flush()\n",
    "        print()"
   ]
  },
  {
   "cell_type": "code",
   "execution_count": null,
   "metadata": {
    "collapsed": true
   },
   "outputs": [],
   "source": []
  },
  {
   "cell_type": "code",
   "execution_count": null,
   "metadata": {
    "collapsed": true
   },
   "outputs": [],
   "source": []
  }
 ],
 "metadata": {
  "kernelspec": {
   "display_name": "Python 2",
   "language": "python",
   "name": "python2"
  },
  "language_info": {
   "codemirror_mode": {
    "name": "ipython",
    "version": 2
   },
   "file_extension": ".py",
   "mimetype": "text/x-python",
   "name": "python",
   "nbconvert_exporter": "python",
   "pygments_lexer": "ipython2",
   "version": "2.7.6"
  }
 },
 "nbformat": 4,
 "nbformat_minor": 0
}
